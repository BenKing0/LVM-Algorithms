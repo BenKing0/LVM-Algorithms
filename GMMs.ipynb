{
 "cells": [
  {
   "cell_type": "code",
   "execution_count": 339,
   "metadata": {},
   "outputs": [],
   "source": [
    "import numpy as np"
   ]
  },
  {
   "cell_type": "code",
   "execution_count": 340,
   "metadata": {},
   "outputs": [],
   "source": [
    "def init(ns,num_states,inp_dims):\n",
    "    # initial cluster responsibilities\n",
    "    qs = np.ones((ns,num_states)) / num_states\n",
    "    mus = np.random.randn(num_states,inp_dims)\n",
    "    # initial cluster probabolities\n",
    "    pis = np.ones((num_states,)) / num_states\n",
    "    sigmas = np.random.randn(num_states,inp_dims,inp_dims)\n",
    "    return qs, pis, mus, sigmas\n",
    "\n",
    "def E_step(ns,_qs,pis,mus,sigmas,xs):\n",
    "    qs = np.zeros(_qs.shape)\n",
    "    num_states = mus.shape[0]\n",
    "    inp_dims = len(xs[0])\n",
    "    for n in range(ns):\n",
    "        # for each n in dataset - see mathematical derivation in probability.pdf:\n",
    "        for k in range(num_states):\n",
    "            products = np.einsum('i,ij,j->',(xs[n]-mus[k]),np.linalg.inv(sigmas[k]),(xs[n]-mus[k]))\n",
    "            u = pis[k]/(((2*np.pi)**inp_dims*abs(np.linalg.det(sigmas[k])))**(1/2)) * np.exp(-0.5*products)\n",
    "            #!! the determinant is sometimes -ve causing error in the square root - absolute here is dodgy, NOT A FIX\n",
    "            qs[n][k] = u\n",
    "        qs[n] /= np.sum(qs[n])\n",
    "    return qs\n",
    "\n",
    "def M_step(ns,qs,xs,_mus):\n",
    "    num_states = _mus.shape[0]\n",
    "    inp_dims = _mus.shape[1]\n",
    "    N_ks = np.sum(qs, axis=0)\n",
    "    mus = np.zeros(_mus.shape)\n",
    "    sigmas = np.zeros((num_states,inp_dims,inp_dims))\n",
    "    pis = np.zeros((num_states,))\n",
    "    for k in range(len(N_ks)): \n",
    "        mus[k] = (1/N_ks[k]) * np.einsum('i,ij->j',qs.T[k],xs) # sum over N removes dependence on N, only on k now\n",
    "        mus_stack = np.stack([mus for n in range(ns)],axis=1) # (KxNxD): for use of einsum without loop over n below:\n",
    "        sum_product_sigmas = np.einsum('j,ji,jk->ik',qs.T[k],(xs-mus_stack[k]),(xs-mus_stack[k]))\n",
    "        sigmas[k] = (1/N_ks[k]) * sum_product_sigmas\n",
    "        pis[k] = N_ks[k] / ns\n",
    "    return mus, sigmas, pis"
   ]
  },
  {
   "cell_type": "code",
   "execution_count": 341,
   "metadata": {},
   "outputs": [],
   "source": [
    "def run(iterations,xs):\n",
    "    xs = np.array(xs)\n",
    "    ns = xs.shape[0] # number of input datapoints\n",
    "    inp_dims = xs.shape[1] # dimension of the input space implicit from inputs\n",
    "    num_states = 2 # number of clusters to fit to\n",
    "    _qs,_pis,_mus,_sigmas = init(ns,num_states,inp_dims)\n",
    "    # Initially randomly allocate the datapoints to clusters (display purposes only):\n",
    "    memberships = [np.random.randint(0,num_states,size=(ns,))]\n",
    "    param_history = [_mus,_sigmas,_pis]\n",
    "    for i in range(iterations):\n",
    "        qs = E_step(ns,_qs,_pis,_mus,_sigmas,xs)\n",
    "        # As free energy minimised when KL divergence is 0 between q and p(s|X,theta), we know that the memberships can be approximated by the optimal qs:\n",
    "        memberships.append(np.argmax(qs, axis=1))\n",
    "        mus,sigmas,pis = M_step(ns,qs,xs,_mus)\n",
    "        _qs = qs\n",
    "        _pis = pis\n",
    "        _mus = mus\n",
    "        _sigmas = sigmas\n",
    "        param_history.append([_mus,_sigmas,_pis])\n",
    "    return np.array(memberships,dtype=np.float32), (param_history) #  a history (iterations x N) of the memberships of each datapoint"
   ]
  },
  {
   "cell_type": "code",
   "execution_count": 342,
   "metadata": {},
   "outputs": [
    {
     "name": "stdout",
     "output_type": "stream",
     "text": [
      "[1. 1. 1. 1. 0. 1. 0. 1. 1. 1. 0. 1. 0. 0. 1. 0. 1. 1. 0. 1. 1. 0. 1. 1.\n",
      " 1. 1. 0. 1. 0. 1. 1. 1. 1. 1. 1. 0. 0. 0. 1. 1. 1. 1. 1. 1. 1. 0. 1. 0.\n",
      " 1. 1. 0. 1. 1. 1. 1. 0. 0. 1. 1. 1. 0. 0. 1. 1. 1. 1. 1. 1. 0. 0. 1. 1.\n",
      " 0. 1. 1. 0. 0. 0. 0. 0. 1. 1. 1. 0. 0. 1. 1. 0. 0. 1. 1. 1. 0. 1. 1. 0.\n",
      " 0. 0. 1. 1.]\n",
      "\n",
      "[0. 0. 0. 0. 1. 0. 1. 0. 0. 0. 1. 0. 1. 1. 0. 1. 0. 0. 1. 0. 0. 1. 0. 0.\n",
      " 0. 0. 1. 0. 1. 0. 0. 0. 0. 0. 0. 1. 1. 1. 0. 0. 0. 0. 0. 0. 0. 1. 0. 1.\n",
      " 0. 0. 1. 0. 0. 0. 0. 1. 1. 0. 0. 0. 1. 1. 0. 0. 0. 0. 0. 0. 1. 1. 0. 0.\n",
      " 1. 0. 0. 1. 1. 1. 1. 1. 0. 0. 0. 1. 1. 0. 0. 1. 1. 0. 0. 0. 1. 0. 0. 1.\n",
      " 1. 1. 0. 0.]\n",
      "\n",
      "[[-0.513843   -0.50001549]\n",
      " [ 0.49760483  0.49571426]] [[[ 0.01545109  0.00191352]\n",
      "  [ 0.00191352  0.01471601]]\n",
      "\n",
      " [[ 0.0087762  -0.00050298]\n",
      "  [-0.00050298  0.01061639]]] [0.36 0.64]\n"
     ]
    }
   ],
   "source": [
    "x = []\n",
    "truth = np.zeros(100)\n",
    "for i in range(100):\n",
    "    r = np.random.randint(0,2)\n",
    "    if r == 0:\n",
    "        x.append(np.random.normal(0.5,0.1,size=(2,)))\n",
    "        truth[i] = 0\n",
    "    else: \n",
    "        x.append(np.random.normal(-0.5,0.1,size=(2,)))\n",
    "        truth[i] = 1\n",
    "xs = np.array(x)\n",
    "\n",
    "model = run(10,xs)\n",
    "\n",
    "print(model[0][-1])\n",
    "print()\n",
    "print(truth)\n",
    "print()\n",
    "print(*model[1][-1])"
   ]
  },
  {
   "cell_type": "code",
   "execution_count": null,
   "metadata": {},
   "outputs": [],
   "source": []
  },
  {
   "cell_type": "code",
   "execution_count": null,
   "metadata": {},
   "outputs": [],
   "source": []
  },
  {
   "cell_type": "code",
   "execution_count": null,
   "metadata": {},
   "outputs": [],
   "source": []
  },
  {
   "cell_type": "code",
   "execution_count": null,
   "metadata": {},
   "outputs": [],
   "source": []
  }
 ],
 "metadata": {
  "kernelspec": {
   "display_name": "Python 3",
   "language": "python",
   "name": "python3"
  },
  "language_info": {
   "codemirror_mode": {
    "name": "ipython",
    "version": 3
   },
   "file_extension": ".py",
   "mimetype": "text/x-python",
   "name": "python",
   "nbconvert_exporter": "python",
   "pygments_lexer": "ipython3",
   "version": "3.8.3"
  }
 },
 "nbformat": 4,
 "nbformat_minor": 4
}
